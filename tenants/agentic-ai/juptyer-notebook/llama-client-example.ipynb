{
 "cells": [
  {
   "cell_type": "code",
   "execution_count": null,
   "id": "1439c128",
   "metadata": {
    "vscode": {
     "languageId": "plaintext"
    }
   },
   "outputs": [],
   "source": [
    "!pip install -qq llama-stack"
   ]
  },
  {
   "cell_type": "code",
   "execution_count": null,
   "id": "0d2e90d2",
   "metadata": {
    "vscode": {
     "languageId": "plaintext"
    }
   },
   "outputs": [],
   "source": [
    "LLAMA_STACK_SERVER_HOST = os.getenv(\"LLAMA_STACK_SERVER_HOST\", \"llamastack-with-config-service.llama-stack.svc.cluster.local\")\n",
    "LLAMA_STACK_SERVER_PORT = os.getenv(\"LLAMA_STACK_SERVER_PORT\", \"8321\")"
   ]
  },
  {
   "cell_type": "code",
   "execution_count": null,
   "id": "5150fd68",
   "metadata": {
    "vscode": {
     "languageId": "plaintext"
    }
   },
   "outputs": [],
   "source": [
    "# Replace host and port\n",
    "client = LlamaStackClient(base_url=f\"http://{LLAMA_STACK_SERVER_HOST}:{LLAMA_STACK_SERVER_PORT}\")\n",
    "\n",
    "agent = Agent(\n",
    "    client,\n",
    "    # Check with `llama-stack-client models list`\n",
    "    model=\"llama-3-2-3b\",\n",
    "    instructions=\"You are a helpful assistant\",\n",
    "    # Enable both RAG and tool usage\n",
    "    tools=[\n",
    "        \"builtin::websearch\"\n",
    "    ],\n",
    "    # Control the inference loop\n",
    "    max_infer_iters=5,\n",
    "    sampling_params={\n",
    "        \"strategy\": {\"type\": \"top_p\", \"temperature\": 0.7, \"top_p\": 0.95},\n",
    "        \"max_tokens\": 2048,\n",
    "    },\n",
    ")\n",
    "session_id = agent.create_session(\"monitored_session\")\n",
    "\n",
    "\n"
   ]
  },
  {
   "cell_type": "code",
   "execution_count": null,
   "id": "080b9a61",
   "metadata": {
    "vscode": {
     "languageId": "plaintext"
    }
   },
   "outputs": [],
   "source": [
    "# Ask about some web search topic\n",
    "response = agent.create_turn(\n",
    "    messages=[{\"role\": \"user\", \"content\": \"Whats the current openshift release?\"}],\n",
    "    session_id=session_id,\n",
    ")\n",
    "\n",
    "# Monitor each step of execution\n",
    "for log in AgentEventLogger().log(response):\n",
    "    log.print()\n"
   ]
  },
  {
   "cell_type": "code",
   "execution_count": null,
   "id": "ad9b7e11",
   "metadata": {
    "vscode": {
     "languageId": "plaintext"
    }
   },
   "outputs": [],
   "source": [
    "# Ask about cluster related topic\n",
    "response = agent.create_turn(\n",
    "    messages=[{\"role\": \"user\", \"content\": \"What namespaces are existing inside the cluster?\"}],\n",
    "    session_id=session_id,\n",
    ")\n",
    "\n",
    "# Monitor each step of execution\n",
    "for log in AgentEventLogger().log(response):\n",
    "    log.print()"
   ]
  }
 ],
 "metadata": {
  "language_info": {
   "name": "python"
  }
 },
 "nbformat": 4,
 "nbformat_minor": 5
}
