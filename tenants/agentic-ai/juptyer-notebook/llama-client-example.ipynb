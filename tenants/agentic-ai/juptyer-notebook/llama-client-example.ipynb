{
 "cells": [
  {
   "cell_type": "code",
   "execution_count": null,
   "id": "1439c128",
   "metadata": {
    "vscode": {
     "languageId": "plaintext"
    }
   },
   "outputs": [],
   "source": [
    "!pip install -qq llama-stack"
   ]
  },
  {
   "cell_type": "code",
   "execution_count": null,
   "id": "0d2e90d2",
   "metadata": {
    "vscode": {
     "languageId": "plaintext"
    }
   },
   "outputs": [],
   "source": [
    "LLAMA_STACK_SERVER_HOST = os.getenv(\"LLAMA_STACK_SERVER_HOST\", \"llamastack-with-config-service.llama-stack.svc.cluster.local\")\n",
    "LLAMA_STACK_SERVER_PORT = os.getenv(\"LLAMA_STACK_SERVER_PORT\", \"8321\")"
   ]
  },
  {
   "cell_type": "code",
   "execution_count": null,
   "id": "5150fd68",
   "metadata": {
    "vscode": {
     "languageId": "plaintext"
    }
   },
   "outputs": [],
   "source": [
    "# Replace host and port\n",
    "client = LlamaStackClient(base_url=f\"http://{LLAMA_STACK_SERVER_HOST}:{LLAMA_STACK_SERVER_PORT}\")\n",
    "\n",
    "agent = Agent(\n",
    "    client,\n",
    "    # Check with `llama-stack-client models list`\n",
    "    model=\"llama-3-2-3b\",\n",
    "    instructions=\"You are a helpful assistant\",\n",
    "    # Enable both RAG and tool usage\n",
    "    tools=[\n",
    "        \"builtin::websearch\"\n",
    "    ],\n",
    "    # Control the inference loop\n",
    "    max_infer_iters=5,\n",
    "    sampling_params={\n",
    "        \"strategy\": {\"type\": \"top_p\", \"temperature\": 0.7, \"top_p\": 0.95},\n",
    "        \"max_tokens\": 2048,\n",
    "    },\n",
    ")\n",
    "session_id = agent.create_session(\"monitored_session\")\n",
    "\n",
    "# Stream the agent's execution steps\n",
    "response = agent.create_turn(\n",
    "    messages=[{\"role\": \"user\", \"content\": \"Analyze this code and run it\"}],\n",
    "    documents=[\n",
    "        {\n",
    "            \"content\": \"https://raw.githubusercontent.com/example/code.py\",\n",
    "            \"mime_type\": \"text/plain\",\n",
    "        }\n",
    "    ],\n",
    "    session_id=session_id,\n",
    ")\n",
    "\n",
    "# Monitor each step of execution\n",
    "for log in AgentEventLogger().log(response):\n",
    "    log.print()\n",
    "\n"
   ]
  }
 ],
 "metadata": {
  "language_info": {
   "name": "python"
  }
 },
 "nbformat": 4,
 "nbformat_minor": 5
}
